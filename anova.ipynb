{
 "metadata": {
  "name": "",
  "signature": "sha256:8860436bc3b14bcc6db0d7111a17043f29b72e846c271948207e67a2306e3078"
 },
 "nbformat": 3,
 "nbformat_minor": 0,
 "worksheets": [
  {
   "cells": [
    {
     "cell_type": "code",
     "collapsed": false,
     "input": [
      "import statsmodels.api as sm"
     ],
     "language": "python",
     "metadata": {},
     "outputs": [],
     "prompt_number": 1
    },
    {
     "cell_type": "code",
     "collapsed": false,
     "input": [
      "moore=sm.datasets.get_rdataset(\"Moore\",\"car\")\n",
      "moore.data.head()"
     ],
     "language": "python",
     "metadata": {},
     "outputs": [
      {
       "html": [
        "<div style=\"max-height:1000px;max-width:1500px;overflow:auto;\">\n",
        "<table border=\"1\" class=\"dataframe\">\n",
        "  <thead>\n",
        "    <tr style=\"text-align: right;\">\n",
        "      <th></th>\n",
        "      <th>partner.status</th>\n",
        "      <th>conformity</th>\n",
        "      <th>fcategory</th>\n",
        "      <th>fscore</th>\n",
        "    </tr>\n",
        "  </thead>\n",
        "  <tbody>\n",
        "    <tr>\n",
        "      <th>0</th>\n",
        "      <td> low</td>\n",
        "      <td>  8</td>\n",
        "      <td>  low</td>\n",
        "      <td> 37</td>\n",
        "    </tr>\n",
        "    <tr>\n",
        "      <th>1</th>\n",
        "      <td> low</td>\n",
        "      <td>  4</td>\n",
        "      <td> high</td>\n",
        "      <td> 57</td>\n",
        "    </tr>\n",
        "    <tr>\n",
        "      <th>2</th>\n",
        "      <td> low</td>\n",
        "      <td>  8</td>\n",
        "      <td> high</td>\n",
        "      <td> 65</td>\n",
        "    </tr>\n",
        "    <tr>\n",
        "      <th>3</th>\n",
        "      <td> low</td>\n",
        "      <td>  7</td>\n",
        "      <td>  low</td>\n",
        "      <td> 20</td>\n",
        "    </tr>\n",
        "    <tr>\n",
        "      <th>4</th>\n",
        "      <td> low</td>\n",
        "      <td> 10</td>\n",
        "      <td>  low</td>\n",
        "      <td> 36</td>\n",
        "    </tr>\n",
        "  </tbody>\n",
        "</table>\n",
        "</div>"
       ],
       "metadata": {},
       "output_type": "pyout",
       "prompt_number": 2,
       "text": [
        "  partner.status  conformity fcategory  fscore\n",
        "0            low           8       low      37\n",
        "1            low           4      high      57\n",
        "2            low           8      high      65\n",
        "3            low           7       low      20\n",
        "4            low          10       low      36"
       ]
      }
     ],
     "prompt_number": 2
    },
    {
     "cell_type": "markdown",
     "metadata": {},
     "source": [
      "# \ud070\uae00\uc528\n",
      "\uceec\ub7fc\uc5d0 \uc810(.)\uc774 \uc788\uc73c\uba74 \ucc98\ub9ac\uac00 \uc548\ub41c\ub2e4. \ub530\ub77c\uc11c \uceec\ub7fc\uba85\uc744 \ubc14\uafb8\uc5b4\ubcf4\uc790\n",
      "$$\\alpha \\beta \\sum_{1-1}^{n} \\frac{1}{2}$$\n",
      "\n",
      "## \uc880 \uc791\uc740\n",
      "* \uc124\uba85\n",
      "* \uc608\uc81c\n",
      "* "
     ]
    },
    {
     "cell_type": "code",
     "collapsed": false,
     "input": [
      "moore.data.columns=['c1','v1','c2','v2']\n",
      "moore.data.columns"
     ],
     "language": "python",
     "metadata": {},
     "outputs": [
      {
       "metadata": {},
       "output_type": "pyout",
       "prompt_number": 4,
       "text": [
        "Index([u'c1', u'v1', u'c2', u'v2'], dtype='object')"
       ]
      }
     ],
     "prompt_number": 4
    },
    {
     "cell_type": "code",
     "collapsed": false,
     "input": [
      "from statsmodels.formula.api import ols\n",
      "formula='v2~C(c1)*C(c2)'\n",
      "from statsmodels.stats.anova import anova_lm\n",
      "model=ols(formula,data=moore.data).fit()\n",
      "from statsmodels.stats.anova import anova_lm\n",
      "anova_lm(model)"
     ],
     "language": "python",
     "metadata": {},
     "outputs": [
      {
       "html": [
        "<div style=\"max-height:1000px;max-width:1500px;overflow:auto;\">\n",
        "<table border=\"1\" class=\"dataframe\">\n",
        "  <thead>\n",
        "    <tr style=\"text-align: right;\">\n",
        "      <th></th>\n",
        "      <th>df</th>\n",
        "      <th>sum_sq</th>\n",
        "      <th>mean_sq</th>\n",
        "      <th>F</th>\n",
        "      <th>PR(&gt;F)</th>\n",
        "    </tr>\n",
        "  </thead>\n",
        "  <tbody>\n",
        "    <tr>\n",
        "      <th>C(c1)</th>\n",
        "      <td>  1</td>\n",
        "      <td>    7.932587</td>\n",
        "      <td>    7.932587</td>\n",
        "      <td>   0.231555</td>\n",
        "      <td> 6.330623e-01</td>\n",
        "    </tr>\n",
        "    <tr>\n",
        "      <th>C(c2)</th>\n",
        "      <td>  2</td>\n",
        "      <td> 7561.365635</td>\n",
        "      <td> 3780.682818</td>\n",
        "      <td> 110.359336</td>\n",
        "      <td> 8.768957e-17</td>\n",
        "    </tr>\n",
        "    <tr>\n",
        "      <th>C(c1):C(c2)</th>\n",
        "      <td>  2</td>\n",
        "      <td>   29.086807</td>\n",
        "      <td>   14.543403</td>\n",
        "      <td>   0.424527</td>\n",
        "      <td> 6.570656e-01</td>\n",
        "    </tr>\n",
        "    <tr>\n",
        "      <th>Residual</th>\n",
        "      <td> 39</td>\n",
        "      <td> 1336.059416</td>\n",
        "      <td>   34.257934</td>\n",
        "      <td>        NaN</td>\n",
        "      <td>          NaN</td>\n",
        "    </tr>\n",
        "  </tbody>\n",
        "</table>\n",
        "<p>4 rows \u00d7 5 columns</p>\n",
        "</div>"
       ],
       "metadata": {},
       "output_type": "pyout",
       "prompt_number": 7,
       "text": [
        "             df       sum_sq      mean_sq           F        PR(>F)\n",
        "C(c1)         1     7.932587     7.932587    0.231555  6.330623e-01\n",
        "C(c2)         2  7561.365635  3780.682818  110.359336  8.768957e-17\n",
        "C(c1):C(c2)   2    29.086807    14.543403    0.424527  6.570656e-01\n",
        "Residual     39  1336.059416    34.257934         NaN           NaN\n",
        "\n",
        "[4 rows x 5 columns]"
       ]
      }
     ],
     "prompt_number": 7
    },
    {
     "cell_type": "markdown",
     "metadata": {},
     "source": [
      "\ud1b5\uacc4\uc801 \ud559\uc2b5\uc774\ub780 \ub370\uc774\ud130\ub97c \ubd84\uc11d\ud558\uc5ec \uc758\ubbf8\ub97c \ucc3e\ub294 \ubc29\ubc95\uc744 \ub9d0\ud55c\ub2e4.\n",
      "* supervised (\uc785\ub825\uc740 \uc788\uc9c0\ub9cc \ucd9c\ub825\uc774 \uc5c6\ub294)\n",
      "* unsupervised (\uc785\ub825 \ucd9c\ub825"
     ]
    },
    {
     "cell_type": "code",
     "collapsed": false,
     "input": [
      "import pandas as pd\n",
      "\n",
      "auto = pd.read_csv(\"http://www-bcf.usc.edu/~gareth/ISL/Auto.csv\")\n",
      "auto.head()"
     ],
     "language": "python",
     "metadata": {},
     "outputs": [
      {
       "html": [
        "<div style=\"max-height:1000px;max-width:1500px;overflow:auto;\">\n",
        "<table border=\"1\" class=\"dataframe\">\n",
        "  <thead>\n",
        "    <tr style=\"text-align: right;\">\n",
        "      <th></th>\n",
        "      <th>mpg</th>\n",
        "      <th>cylinders</th>\n",
        "      <th>displacement</th>\n",
        "      <th>horsepower</th>\n",
        "      <th>weight</th>\n",
        "      <th>acceleration</th>\n",
        "      <th>year</th>\n",
        "      <th>origin</th>\n",
        "      <th>name</th>\n",
        "    </tr>\n",
        "  </thead>\n",
        "  <tbody>\n",
        "    <tr>\n",
        "      <th>0</th>\n",
        "      <td> 18</td>\n",
        "      <td> 8</td>\n",
        "      <td> 307</td>\n",
        "      <td> 130</td>\n",
        "      <td> 3504</td>\n",
        "      <td> 12.0</td>\n",
        "      <td> 70</td>\n",
        "      <td> 1</td>\n",
        "      <td> chevrolet chevelle malibu</td>\n",
        "    </tr>\n",
        "    <tr>\n",
        "      <th>1</th>\n",
        "      <td> 15</td>\n",
        "      <td> 8</td>\n",
        "      <td> 350</td>\n",
        "      <td> 165</td>\n",
        "      <td> 3693</td>\n",
        "      <td> 11.5</td>\n",
        "      <td> 70</td>\n",
        "      <td> 1</td>\n",
        "      <td>         buick skylark 320</td>\n",
        "    </tr>\n",
        "    <tr>\n",
        "      <th>2</th>\n",
        "      <td> 18</td>\n",
        "      <td> 8</td>\n",
        "      <td> 318</td>\n",
        "      <td> 150</td>\n",
        "      <td> 3436</td>\n",
        "      <td> 11.0</td>\n",
        "      <td> 70</td>\n",
        "      <td> 1</td>\n",
        "      <td>        plymouth satellite</td>\n",
        "    </tr>\n",
        "    <tr>\n",
        "      <th>3</th>\n",
        "      <td> 16</td>\n",
        "      <td> 8</td>\n",
        "      <td> 304</td>\n",
        "      <td> 150</td>\n",
        "      <td> 3433</td>\n",
        "      <td> 12.0</td>\n",
        "      <td> 70</td>\n",
        "      <td> 1</td>\n",
        "      <td>             amc rebel sst</td>\n",
        "    </tr>\n",
        "    <tr>\n",
        "      <th>4</th>\n",
        "      <td> 17</td>\n",
        "      <td> 8</td>\n",
        "      <td> 302</td>\n",
        "      <td> 140</td>\n",
        "      <td> 3449</td>\n",
        "      <td> 10.5</td>\n",
        "      <td> 70</td>\n",
        "      <td> 1</td>\n",
        "      <td>               ford torino</td>\n",
        "    </tr>\n",
        "  </tbody>\n",
        "</table>\n",
        "</div>"
       ],
       "metadata": {},
       "output_type": "pyout",
       "prompt_number": 3,
       "text": [
        "   mpg  cylinders  displacement horsepower  weight  acceleration  year  \\\n",
        "0   18          8           307        130    3504          12.0    70   \n",
        "1   15          8           350        165    3693          11.5    70   \n",
        "2   18          8           318        150    3436          11.0    70   \n",
        "3   16          8           304        150    3433          12.0    70   \n",
        "4   17          8           302        140    3449          10.5    70   \n",
        "\n",
        "   origin                       name  \n",
        "0       1  chevrolet chevelle malibu  \n",
        "1       1          buick skylark 320  \n",
        "2       1         plymouth satellite  \n",
        "3       1              amc rebel sst  \n",
        "4       1                ford torino  "
       ]
      }
     ],
     "prompt_number": 3
    },
    {
     "cell_type": "code",
     "collapsed": false,
     "input": [
      "%pylab inline\n",
      "import matplotlib.pyplot as plt\n",
      "plt.plot(auto.cylinders,auto.mpg)\n",
      "plt.show()"
     ],
     "language": "python",
     "metadata": {},
     "outputs": [
      {
       "output_type": "stream",
       "stream": "stdout",
       "text": [
        "Populating the interactive namespace from numpy and matplotlib\n"
       ]
      },
      {
       "metadata": {},
       "output_type": "display_data",
       "png": "[encoded data removed]",
       "text": [
        "<matplotlib.figure.Figure at 0x7fcc532e8390>"
       ]
      }
     ],
     "prompt_number": 6
    },
    {
     "cell_type": "code",
     "collapsed": false,
     "input": [],
     "language": "python",
     "metadata": {},
     "outputs": []
    }
   ],
   "metadata": {}
  }
 ]
}