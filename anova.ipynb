{
 "metadata": {
  "name": "",
  "signature": "sha256:8860436bc3b14bcc6db0d7111a17043f29b72e846c271948207e67a2306e3078"
 },
 "nbformat": 3,
 "nbformat_minor": 0,
 "worksheets": [
  {
   "cells": [
    {
     "cell_type": "code",
     "collapsed": false,
     "input": [
      "import statsmodels.api as sm"
     ],
     "language": "python",
     "metadata": {},
     "outputs": [],
     "prompt_number": 1
    },
    {
     "cell_type": "code",
     "collapsed": false,
     "input": [
      "moore=sm.datasets.get_rdataset(\"Moore\",\"car\")\n",
      "moore.data.head()"
     ],
     "language": "python",
     "metadata": {},
     "outputs": [
      {
       "html": [
        "<div style=\"max-height:1000px;max-width:1500px;overflow:auto;\">\n",
        "<table border=\"1\" class=\"dataframe\">\n",
        "  <thead>\n",
        "    <tr style=\"text-align: right;\">\n",
        "      <th></th>\n",
        "      <th>partner.status</th>\n",
        "      <th>conformity</th>\n",
        "      <th>fcategory</th>\n",
        "      <th>fscore</th>\n",
        "    </tr>\n",
        "  </thead>\n",
        "  <tbody>\n",
        "    <tr>\n",
        "      <th>0</th>\n",
        "      <td> low</td>\n",
        "      <td>  8</td>\n",
        "      <td>  low</td>\n",
        "      <td> 37</td>\n",
        "    </tr>\n",
        "    <tr>\n",
        "      <th>1</th>\n",
        "      <td> low</td>\n",
        "      <td>  4</td>\n",
        "      <td> high</td>\n",
        "      <td> 57</td>\n",
        "    </tr>\n",
        "    <tr>\n",
        "      <th>2</th>\n",
        "      <td> low</td>\n",
        "      <td>  8</td>\n",
        "      <td> high</td>\n",
        "      <td> 65</td>\n",
        "    </tr>\n",
        "    <tr>\n",
        "      <th>3</th>\n",
        "      <td> low</td>\n",
        "      <td>  7</td>\n",
        "      <td>  low</td>\n",
        "      <td> 20</td>\n",
        "    </tr>\n",
        "    <tr>\n",
        "      <th>4</th>\n",
        "      <td> low</td>\n",
        "      <td> 10</td>\n",
        "      <td>  low</td>\n",
        "      <td> 36</td>\n",
        "    </tr>\n",
        "  </tbody>\n",
        "</table>\n",
        "<p>5 rows \u00d7 4 columns</p>\n",
        "</div>"
       ],
       "metadata": {},
       "output_type": "pyout",
       "prompt_number": 2,
       "text": [
        "  partner.status  conformity fcategory  fscore\n",
        "0            low           8       low      37\n",
        "1            low           4      high      57\n",
        "2            low           8      high      65\n",
        "3            low           7       low      20\n",
        "4            low          10       low      36\n",
        "\n",
        "[5 rows x 4 columns]"
       ]
      }
     ],
     "prompt_number": 2
    },
    {
     "cell_type": "markdown",
     "metadata": {},
     "source": [
      "\uceec\ub7fc\uc5d0 \uc810(.)\uc774 \uc788\uc73c\uba74 \ucc98\ub9ac\uac00 \uc548\ub41c\ub2e4. \ub530\ub77c\uc11c \uceec\ub7fc\uba85\uc744 \ubc14\uafb8\uc5b4\ubcf4\uc790\n",
      "$$\\alpha$$"
     ]
    },
    {
     "cell_type": "code",
     "collapsed": false,
     "input": [
      "moore.data.columns=['c1','v1','c2','v2']\n",
      "moore.data.columns"
     ],
     "language": "python",
     "metadata": {},
     "outputs": [
      {
       "metadata": {},
       "output_type": "pyout",
       "prompt_number": 4,
       "text": [
        "Index([u'c1', u'v1', u'c2', u'v2'], dtype='object')"
       ]
      }
     ],
     "prompt_number": 4
    },
    {
     "cell_type": "code",
     "collapsed": false,
     "input": [
      "from statsmodels.formula.api import ols\n",
      "formula='v2~C(c1)*C(c2)'\n",
      "from statsmodels.stats.anova import anova_lm\n",
      "model=ols(formula,data=moore.data).fit()\n",
      "from statsmodels.stats.anova import anova_lm\n",
      "anova_lm(model)"
     ],
     "language": "python",
     "metadata": {},
     "outputs": [
      {
       "html": [
        "<div style=\"max-height:1000px;max-width:1500px;overflow:auto;\">\n",
        "<table border=\"1\" class=\"dataframe\">\n",
        "  <thead>\n",
        "    <tr style=\"text-align: right;\">\n",
        "      <th></th>\n",
        "      <th>df</th>\n",
        "      <th>sum_sq</th>\n",
        "      <th>mean_sq</th>\n",
        "      <th>F</th>\n",
        "      <th>PR(&gt;F)</th>\n",
        "    </tr>\n",
        "  </thead>\n",
        "  <tbody>\n",
        "    <tr>\n",
        "      <th>C(c1)</th>\n",
        "      <td>  1</td>\n",
        "      <td>    7.932587</td>\n",
        "      <td>    7.932587</td>\n",
        "      <td>   0.231555</td>\n",
        "      <td> 6.330623e-01</td>\n",
        "    </tr>\n",
        "    <tr>\n",
        "      <th>C(c2)</th>\n",
        "      <td>  2</td>\n",
        "      <td> 7561.365635</td>\n",
        "      <td> 3780.682818</td>\n",
        "      <td> 110.359336</td>\n",
        "      <td> 8.768957e-17</td>\n",
        "    </tr>\n",
        "    <tr>\n",
        "      <th>C(c1):C(c2)</th>\n",
        "      <td>  2</td>\n",
        "      <td>   29.086807</td>\n",
        "      <td>   14.543403</td>\n",
        "      <td>   0.424527</td>\n",
        "      <td> 6.570656e-01</td>\n",
        "    </tr>\n",
        "    <tr>\n",
        "      <th>Residual</th>\n",
        "      <td> 39</td>\n",
        "      <td> 1336.059416</td>\n",
        "      <td>   34.257934</td>\n",
        "      <td>        NaN</td>\n",
        "      <td>          NaN</td>\n",
        "    </tr>\n",
        "  </tbody>\n",
        "</table>\n",
        "<p>4 rows \u00d7 5 columns</p>\n",
        "</div>"
       ],
       "metadata": {},
       "output_type": "pyout",
       "prompt_number": 7,
       "text": [
        "             df       sum_sq      mean_sq           F        PR(>F)\n",
        "C(c1)         1     7.932587     7.932587    0.231555  6.330623e-01\n",
        "C(c2)         2  7561.365635  3780.682818  110.359336  8.768957e-17\n",
        "C(c1):C(c2)   2    29.086807    14.543403    0.424527  6.570656e-01\n",
        "Residual     39  1336.059416    34.257934         NaN           NaN\n",
        "\n",
        "[4 rows x 5 columns]"
       ]
      }
     ],
     "prompt_number": 7
    },
    {
     "cell_type": "code",
     "collapsed": false,
     "input": [],
     "language": "python",
     "metadata": {},
     "outputs": []
    }
   ],
   "metadata": {}
  }
 ]
}