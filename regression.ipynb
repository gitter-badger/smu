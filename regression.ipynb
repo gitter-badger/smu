{
 "metadata": {
  "name": "",
  "signature": "sha256:84fdec939e4ce294cccadf4f364e45f2c0082d0b19db224fd3563b4f84b06b4e"
 },
 "nbformat": 3,
 "nbformat_minor": 0,
 "worksheets": [
  {
   "cells": [
    {
     "cell_type": "code",
     "collapsed": false,
     "input": [
      "import statsmodels.api as sm"
     ],
     "language": "python",
     "metadata": {},
     "outputs": [],
     "prompt_number": 1
    },
    {
     "cell_type": "code",
     "collapsed": false,
     "input": [
      "mass=sm.datasets.get_rdataset(\"survey\",\"MASS\")"
     ],
     "language": "python",
     "metadata": {},
     "outputs": [],
     "prompt_number": 2
    },
    {
     "cell_type": "markdown",
     "metadata": {},
     "source": [
      "# data\n",
      "* This data frame contains the responses of 237 Statistics I students at the University of Adelaide to\n",
      "a number of questions.\n",
      "* Sex The sex of the student. (Factor with levels \"Male\" and \"Female\".)\n",
      "* Wr.Hnd span (distance from tip of thumb to tip of little finger of spread hand) of writing hand, in\n",
      "centimetres.\n",
      "* NW.Hnd span of non-writing hand.\n",
      "* W.Hnd writing hand of student. (Factor, with levels \"Left\" and \"Right\".)\n",
      "* Fold \u201cFold your arms! Which is on top\u201d (Factor, with levels \"R on L\", \"L on R\", \"Neither\".)\n",
      "* Pulse pulse rate of student (beats per minute).\n",
      "* Clap \u2018Clap your hands! Which hand is on top?\u2019 (Factor, with levels \"Right\", \"Left\", \"Neither\".)\n",
      "* Exer how often the student exercises. (Factor, with levels \"Freq\" (frequently), \"Some\", \"None\".)\n",
      "* Smoke how much the student smokes. (Factor, levels \"Heavy\", \"Regul\" (regularly), \"Occas\" (occasionally),\n",
      "\"Never\".)\n",
      "* Height height of the student in centimetres.\n",
      "* M.I whether the student expressed height in imperial (feet/inches) or metric (centimetres/metres)\n",
      "units. (Factor, levels \"Metric\", \"Imperial\".)\n",
      "* Age age of the student in years"
     ]
    },
    {
     "cell_type": "code",
     "collapsed": false,
     "input": [
      "mass.data.head()"
     ],
     "language": "python",
     "metadata": {},
     "outputs": [
      {
       "html": [
        "<div style=\"max-height:1000px;max-width:1500px;overflow:auto;\">\n",
        "<table border=\"1\" class=\"dataframe\">\n",
        "  <thead>\n",
        "    <tr style=\"text-align: right;\">\n",
        "      <th></th>\n",
        "      <th>sex</th>\n",
        "      <th>wr</th>\n",
        "      <th>nw</th>\n",
        "      <th>w</th>\n",
        "      <th>fold</th>\n",
        "      <th>pulse</th>\n",
        "      <th>clap</th>\n",
        "      <th>exer</th>\n",
        "      <th>smoke</th>\n",
        "      <th>height</th>\n",
        "      <th>mi</th>\n",
        "      <th>age</th>\n",
        "    </tr>\n",
        "  </thead>\n",
        "  <tbody>\n",
        "    <tr>\n",
        "      <th>0</th>\n",
        "      <td> Female</td>\n",
        "      <td> 18.5</td>\n",
        "      <td> 18.0</td>\n",
        "      <td> Right</td>\n",
        "      <td>  R on L</td>\n",
        "      <td>  92</td>\n",
        "      <td>    Left</td>\n",
        "      <td> Some</td>\n",
        "      <td> Never</td>\n",
        "      <td> 173.0</td>\n",
        "      <td>   Metric</td>\n",
        "      <td> 18.250</td>\n",
        "    </tr>\n",
        "    <tr>\n",
        "      <th>1</th>\n",
        "      <td>   Male</td>\n",
        "      <td> 19.5</td>\n",
        "      <td> 20.5</td>\n",
        "      <td>  Left</td>\n",
        "      <td>  R on L</td>\n",
        "      <td> 104</td>\n",
        "      <td>    Left</td>\n",
        "      <td> None</td>\n",
        "      <td> Regul</td>\n",
        "      <td> 177.8</td>\n",
        "      <td> Imperial</td>\n",
        "      <td> 17.583</td>\n",
        "    </tr>\n",
        "    <tr>\n",
        "      <th>2</th>\n",
        "      <td>   Male</td>\n",
        "      <td> 18.0</td>\n",
        "      <td> 13.3</td>\n",
        "      <td> Right</td>\n",
        "      <td>  L on R</td>\n",
        "      <td>  87</td>\n",
        "      <td> Neither</td>\n",
        "      <td> None</td>\n",
        "      <td> Occas</td>\n",
        "      <td>   NaN</td>\n",
        "      <td>      NaN</td>\n",
        "      <td> 16.917</td>\n",
        "    </tr>\n",
        "    <tr>\n",
        "      <th>3</th>\n",
        "      <td>   Male</td>\n",
        "      <td> 18.8</td>\n",
        "      <td> 18.9</td>\n",
        "      <td> Right</td>\n",
        "      <td>  R on L</td>\n",
        "      <td> NaN</td>\n",
        "      <td> Neither</td>\n",
        "      <td> None</td>\n",
        "      <td> Never</td>\n",
        "      <td> 160.0</td>\n",
        "      <td>   Metric</td>\n",
        "      <td> 20.333</td>\n",
        "    </tr>\n",
        "    <tr>\n",
        "      <th>4</th>\n",
        "      <td>   Male</td>\n",
        "      <td> 20.0</td>\n",
        "      <td> 20.0</td>\n",
        "      <td> Right</td>\n",
        "      <td> Neither</td>\n",
        "      <td>  35</td>\n",
        "      <td>   Right</td>\n",
        "      <td> Some</td>\n",
        "      <td> Never</td>\n",
        "      <td> 165.0</td>\n",
        "      <td>   Metric</td>\n",
        "      <td> 23.667</td>\n",
        "    </tr>\n",
        "  </tbody>\n",
        "</table>\n",
        "<p>5 rows \u00d7 12 columns</p>\n",
        "</div>"
       ],
       "metadata": {},
       "output_type": "pyout",
       "prompt_number": 22,
       "text": [
        "      sex    wr    nw      w     fold  pulse     clap  exer  smoke  height  \\\n",
        "0  Female  18.5  18.0  Right   R on L     92     Left  Some  Never   173.0   \n",
        "1    Male  19.5  20.5   Left   R on L    104     Left  None  Regul   177.8   \n",
        "2    Male  18.0  13.3  Right   L on R     87  Neither  None  Occas     NaN   \n",
        "3    Male  18.8  18.9  Right   R on L    NaN  Neither  None  Never   160.0   \n",
        "4    Male  20.0  20.0  Right  Neither     35    Right  Some  Never   165.0   \n",
        "\n",
        "         mi     age  \n",
        "0    Metric  18.250  \n",
        "1  Imperial  17.583  \n",
        "2       NaN  16.917  \n",
        "3    Metric  20.333  \n",
        "4    Metric  23.667  \n",
        "\n",
        "[5 rows x 12 columns]"
       ]
      }
     ],
     "prompt_number": 22
    },
    {
     "cell_type": "code",
     "collapsed": false,
     "input": [
      "type(mass.data)"
     ],
     "language": "python",
     "metadata": {},
     "outputs": [
      {
       "metadata": {},
       "output_type": "pyout",
       "prompt_number": 4,
       "text": [
        "pandas.core.frame.DataFrame"
       ]
      }
     ],
     "prompt_number": 4
    },
    {
     "cell_type": "code",
     "collapsed": false,
     "input": [
      "mass.data.groupby('Sex').mean()"
     ],
     "language": "python",
     "metadata": {},
     "outputs": [
      {
       "html": [
        "<div style=\"max-height:1000px;max-width:1500px;overflow:auto;\">\n",
        "<table border=\"1\" class=\"dataframe\">\n",
        "  <thead>\n",
        "    <tr style=\"text-align: right;\">\n",
        "      <th></th>\n",
        "      <th>Wr.Hnd</th>\n",
        "      <th>NW.Hnd</th>\n",
        "      <th>Pulse</th>\n",
        "      <th>Height</th>\n",
        "      <th>Age</th>\n",
        "    </tr>\n",
        "    <tr>\n",
        "      <th>Sex</th>\n",
        "      <th></th>\n",
        "      <th></th>\n",
        "      <th></th>\n",
        "      <th></th>\n",
        "      <th></th>\n",
        "    </tr>\n",
        "  </thead>\n",
        "  <tbody>\n",
        "    <tr>\n",
        "      <th>Female</th>\n",
        "      <td> 17.595763</td>\n",
        "      <td> 17.45678</td>\n",
        "      <td> 75.126316</td>\n",
        "      <td> 165.686667</td>\n",
        "      <td> 20.407534</td>\n",
        "    </tr>\n",
        "    <tr>\n",
        "      <th>Male</th>\n",
        "      <td> 19.741880</td>\n",
        "      <td> 19.71453</td>\n",
        "      <td> 73.197917</td>\n",
        "      <td> 178.826038</td>\n",
        "      <td> 20.331958</td>\n",
        "    </tr>\n",
        "  </tbody>\n",
        "</table>\n",
        "<p>2 rows \u00d7 5 columns</p>\n",
        "</div>"
       ],
       "metadata": {},
       "output_type": "pyout",
       "prompt_number": 5,
       "text": [
        "           Wr.Hnd    NW.Hnd      Pulse      Height        Age\n",
        "Sex                                                          \n",
        "Female  17.595763  17.45678  75.126316  165.686667  20.407534\n",
        "Male    19.741880  19.71453  73.197917  178.826038  20.331958\n",
        "\n",
        "[2 rows x 5 columns]"
       ]
      }
     ],
     "prompt_number": 5
    },
    {
     "cell_type": "code",
     "collapsed": false,
     "input": [
      "mass.data.groupby('Sex').count()"
     ],
     "language": "python",
     "metadata": {},
     "outputs": [
      {
       "html": [
        "<div style=\"max-height:1000px;max-width:1500px;overflow:auto;\">\n",
        "<table border=\"1\" class=\"dataframe\">\n",
        "  <thead>\n",
        "    <tr style=\"text-align: right;\">\n",
        "      <th></th>\n",
        "      <th>Sex</th>\n",
        "      <th>Wr.Hnd</th>\n",
        "      <th>NW.Hnd</th>\n",
        "      <th>W.Hnd</th>\n",
        "      <th>Fold</th>\n",
        "      <th>Pulse</th>\n",
        "      <th>Clap</th>\n",
        "      <th>Exer</th>\n",
        "      <th>Smoke</th>\n",
        "      <th>Height</th>\n",
        "      <th>M.I</th>\n",
        "      <th>Age</th>\n",
        "    </tr>\n",
        "    <tr>\n",
        "      <th>Sex</th>\n",
        "      <th></th>\n",
        "      <th></th>\n",
        "      <th></th>\n",
        "      <th></th>\n",
        "      <th></th>\n",
        "      <th></th>\n",
        "      <th></th>\n",
        "      <th></th>\n",
        "      <th></th>\n",
        "      <th></th>\n",
        "      <th></th>\n",
        "      <th></th>\n",
        "    </tr>\n",
        "  </thead>\n",
        "  <tbody>\n",
        "    <tr>\n",
        "      <th>Female</th>\n",
        "      <td> 118</td>\n",
        "      <td> 118</td>\n",
        "      <td> 118</td>\n",
        "      <td> 117</td>\n",
        "      <td> 118</td>\n",
        "      <td> 95</td>\n",
        "      <td> 118</td>\n",
        "      <td> 118</td>\n",
        "      <td> 118</td>\n",
        "      <td> 102</td>\n",
        "      <td> 102</td>\n",
        "      <td> 118</td>\n",
        "    </tr>\n",
        "    <tr>\n",
        "      <th>Male</th>\n",
        "      <td> 118</td>\n",
        "      <td> 117</td>\n",
        "      <td> 117</td>\n",
        "      <td> 118</td>\n",
        "      <td> 118</td>\n",
        "      <td> 96</td>\n",
        "      <td> 117</td>\n",
        "      <td> 118</td>\n",
        "      <td> 117</td>\n",
        "      <td> 106</td>\n",
        "      <td> 106</td>\n",
        "      <td> 118</td>\n",
        "    </tr>\n",
        "  </tbody>\n",
        "</table>\n",
        "<p>2 rows \u00d7 12 columns</p>\n",
        "</div>"
       ],
       "metadata": {},
       "output_type": "pyout",
       "prompt_number": 6,
       "text": [
        "        Sex  Wr.Hnd  NW.Hnd  W.Hnd  Fold  Pulse  Clap  Exer  Smoke  Height  \\\n",
        "Sex                                                                          \n",
        "Female  118     118     118    117   118     95   118   118    118     102   \n",
        "Male    118     117     117    118   118     96   117   118    117     106   \n",
        "\n",
        "        M.I  Age  \n",
        "Sex               \n",
        "Female  102  118  \n",
        "Male    106  118  \n",
        "\n",
        "[2 rows x 12 columns]"
       ]
      }
     ],
     "prompt_number": 6
    },
    {
     "cell_type": "code",
     "collapsed": false,
     "input": [
      "mass.data.columns\n",
      "mass.data.columns=['sex','wr','nw','w','fold','pulse','clap','exer','smoke','height','mi','age']"
     ],
     "language": "python",
     "metadata": {},
     "outputs": [],
     "prompt_number": 23
    },
    {
     "cell_type": "code",
     "collapsed": false,
     "input": [
      "mass.data.columns"
     ],
     "language": "python",
     "metadata": {},
     "outputs": [
      {
       "metadata": {},
       "output_type": "pyout",
       "prompt_number": 24,
       "text": [
        "Index([u'sex', u'wr', u'nw', u'w', u'fold', u'pulse', u'clap', u'exer', u'smoke', u'height', u'mi', u'age'], dtype='object')"
       ]
      }
     ],
     "prompt_number": 24
    },
    {
     "cell_type": "code",
     "collapsed": false,
     "input": [
      "import seaborn as sns\n",
      "import matplotlib.pyplot as plt\n",
      "sns.corrplot(mass.data)\n",
      "plt.show()"
     ],
     "language": "python",
     "metadata": {},
     "outputs": [
      {
       "output_type": "stream",
       "stream": "stderr",
       "text": [
        "/System/Library/Frameworks/Python.framework/Versions/2.7/Extras/lib/python/numpy/core/_methods.py:55: RuntimeWarning: Mean of empty slice.\n",
        "  warnings.warn(\"Mean of empty slice.\", RuntimeWarning)\n"
       ]
      }
     ],
     "prompt_number": 8
    },
    {
     "cell_type": "code",
     "collapsed": false,
     "input": [
      "formula='sex ~ wr+nw+w+pulse+height+age'\n",
      "import statsmodels.formula.api as smf\n",
      "model=smf.glm(formula,data=mass.data,family=sm.families.Binomial()).fit()\n",
      "print (model.summary())"
     ],
     "language": "python",
     "metadata": {},
     "outputs": [
      {
       "output_type": "stream",
       "stream": "stdout",
       "text": [
        "                      Generalized Linear Model Regression Results                       \n",
        "========================================================================================\n",
        "Dep. Variable:     ['sex[Female]', 'sex[Male]']   No. Observations:                  168\n",
        "Model:                                      GLM   Df Residuals:                      161\n",
        "Model Family:                          Binomial   Df Model:                            6\n",
        "Link Function:                            logit   Scale:                             1.0\n",
        "Method:                                    IRLS   Log-Likelihood:                -52.236\n",
        "Date:                          Thu, 18 Dec 2014   Deviance:                       104.47\n",
        "Time:                                  05:54:20   Pearson chi2:                     646.\n",
        "No. Iterations:                               7                                         \n",
        "==============================================================================\n",
        "                 coef    std err          t      P>|t|      [95.0% Conf. Int.]\n",
        "------------------------------------------------------------------------------\n",
        "Intercept     49.5650      8.052      6.156      0.000        33.783    65.347\n",
        "w[T.Right]     0.0766      1.112      0.069      0.945        -2.104     2.257\n",
        "wr             0.7649      0.591      1.295      0.195        -0.393     1.923\n",
        "nw            -1.5121      0.619     -2.442      0.015        -2.726    -0.298\n",
        "pulse          0.0100      0.022      0.461      0.645        -0.033     0.053\n",
        "height        -0.2123      0.045     -4.746      0.000        -0.300    -0.125\n",
        "age        -6.183e-05      0.044     -0.001      0.999        -0.087     0.087\n",
        "==============================================================================\n"
       ]
      }
     ],
     "prompt_number": 9
    },
    {
     "cell_type": "code",
     "collapsed": false,
     "input": [
      "formula2='sex ~ nw+height'\n",
      "model2=smf.glm(formula2,data=mass.data,family=sm.families.Binomial()).fit()\n",
      "print (model2.summary())"
     ],
     "language": "python",
     "metadata": {},
     "outputs": [
      {
       "output_type": "stream",
       "stream": "stdout",
       "text": [
        "                      Generalized Linear Model Regression Results                       \n",
        "========================================================================================\n",
        "Dep. Variable:     ['sex[Female]', 'sex[Male]']   No. Observations:                  207\n",
        "Model:                                      GLM   Df Residuals:                      204\n",
        "Model Family:                          Binomial   Df Model:                            2\n",
        "Link Function:                            logit   Scale:                             1.0\n",
        "Method:                                    IRLS   Log-Likelihood:                -67.329\n",
        "Date:                          Thu, 18 Dec 2014   Deviance:                       134.66\n",
        "Time:                                  06:11:04   Pearson chi2:                     468.\n",
        "No. Iterations:                               7                                         \n",
        "==============================================================================\n",
        "                 coef    std err          t      P>|t|      [95.0% Conf. Int.]\n",
        "------------------------------------------------------------------------------\n",
        "Intercept     49.1014      6.919      7.097      0.000        35.540    62.662\n",
        "nw            -0.8189      0.188     -4.358      0.000        -1.187    -0.451\n",
        "height        -0.1977      0.038     -5.241      0.000        -0.272    -0.124\n",
        "==============================================================================\n"
       ]
      }
     ],
     "prompt_number": 25
    },
    {
     "cell_type": "code",
     "collapsed": false,
     "input": [
      "formula3='height ~ 1+sex'\n",
      "model3=smf.ols(formula3,data=mass.data).fit()\n",
      "print model3.summary()"
     ],
     "language": "python",
     "metadata": {},
     "outputs": [
      {
       "output_type": "stream",
       "stream": "stdout",
       "text": [
        "                            OLS Regression Results                            \n",
        "==============================================================================\n",
        "Dep. Variable:                 height   R-squared:                       0.445\n",
        "Model:                            OLS   Adj. R-squared:                  0.442\n",
        "Method:                 Least Squares   F-statistic:                     165.1\n",
        "Date:                Thu, 18 Dec 2014   Prob (F-statistic):           3.86e-28\n",
        "Time:                        05:55:00   Log-Likelihood:                -709.66\n",
        "No. Observations:                 208   AIC:                             1423.\n",
        "Df Residuals:                     206   BIC:                             1430.\n",
        "Df Model:                           1                                         \n",
        "===============================================================================\n",
        "                  coef    std err          t      P>|t|      [95.0% Conf. Int.]\n",
        "-------------------------------------------------------------------------------\n",
        "Intercept     165.6867      0.730    226.978      0.000       164.248   167.126\n",
        "sex[T.Male]    13.1394      1.023     12.850      0.000        11.123    15.155\n",
        "==============================================================================\n",
        "Omnibus:                        2.703   Durbin-Watson:                   1.695\n",
        "Prob(Omnibus):                  0.259   Jarque-Bera (JB):                2.365\n",
        "Skew:                          -0.250   Prob(JB):                        0.306\n",
        "Kurtosis:                       3.153   Cond. No.                         2.64\n",
        "==============================================================================\n"
       ]
      }
     ],
     "prompt_number": 11
    },
    {
     "cell_type": "markdown",
     "metadata": {},
     "source": [
      "$$ y=\\beta_0 + \\beta_1 \\times x $$\n",
      "\n",
      "$$ \\hat{y} = \\hat{\\beta_0} + \\hat{\\beta_1} \\times x $$\n"
     ]
    },
    {
     "cell_type": "markdown",
     "metadata": {},
     "source": [
      "* regression \uacb0\uacfc\uc5d0\uc11c Intercept(165.686) + Male(13.139)\ub294 \ud3c9\uade0\uacfc \ub3d9\uc77c\n",
      "* regression\uacfc anova\ub294 \uac19\uc740 \uacb0\uacfc\ub97c \ubcf4\uc5ec\uc90c."
     ]
    },
    {
     "cell_type": "code",
     "collapsed": false,
     "input": [
      "anova_model=smf.ols(formula3,data=mass.data).fit()\n",
      "from statsmodels.stats.anova import anova_lm\n",
      "anova_lm(anova_model)"
     ],
     "language": "python",
     "metadata": {},
     "outputs": [
      {
       "html": [
        "<div style=\"max-height:1000px;max-width:1500px;overflow:auto;\">\n",
        "<table border=\"1\" class=\"dataframe\">\n",
        "  <thead>\n",
        "    <tr style=\"text-align: right;\">\n",
        "      <th></th>\n",
        "      <th>df</th>\n",
        "      <th>sum_sq</th>\n",
        "      <th>mean_sq</th>\n",
        "      <th>F</th>\n",
        "      <th>PR(&gt;F)</th>\n",
        "    </tr>\n",
        "  </thead>\n",
        "  <tbody>\n",
        "    <tr>\n",
        "      <th>sex</th>\n",
        "      <td>   1</td>\n",
        "      <td>  8974.119690</td>\n",
        "      <td> 8974.119690</td>\n",
        "      <td> 165.114466</td>\n",
        "      <td> 3.861758e-28</td>\n",
        "    </tr>\n",
        "    <tr>\n",
        "      <th>Residual</th>\n",
        "      <td> 206</td>\n",
        "      <td> 11196.285203</td>\n",
        "      <td>   54.350899</td>\n",
        "      <td>        NaN</td>\n",
        "      <td>          NaN</td>\n",
        "    </tr>\n",
        "  </tbody>\n",
        "</table>\n",
        "<p>2 rows \u00d7 5 columns</p>\n",
        "</div>"
       ],
       "metadata": {},
       "output_type": "pyout",
       "prompt_number": 12,
       "text": [
        "           df        sum_sq      mean_sq           F        PR(>F)\n",
        "sex         1   8974.119690  8974.119690  165.114466  3.861758e-28\n",
        "Residual  206  11196.285203    54.350899         NaN           NaN\n",
        "\n",
        "[2 rows x 5 columns]"
       ]
      }
     ],
     "prompt_number": 12
    }
   ],
   "metadata": {}
  }
 ]
}