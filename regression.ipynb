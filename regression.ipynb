{
 "metadata": {
  "name": "",
  "signature": "sha256:32fdcdf61b10a6643c41b295c316b22c7ec6ae33c5b3b72c01e2631a8fd21b70"
 },
 "nbformat": 3,
 "nbformat_minor": 0,
 "worksheets": [
  {
   "cells": [
    {
     "cell_type": "code",
     "collapsed": false,
     "input": [
      "import statsmodels.api as sm"
     ],
     "language": "python",
     "metadata": {},
     "outputs": [],
     "prompt_number": 2
    },
    {
     "cell_type": "code",
     "collapsed": false,
     "input": [
      "mass=sm.datasets.get_rdataset(\"survey\",\"MASS\")"
     ],
     "language": "python",
     "metadata": {},
     "outputs": [],
     "prompt_number": 4
    },
    {
     "cell_type": "markdown",
     "metadata": {},
     "source": [
      "# data\n",
      "* Description\n",
      "This data frame contains the responses of 237 Statistics I students at the University of Adelaide to\n",
      "a number of questions.\n",
      "* Sex The sex of the student. (Factor with levels \"Male\" and \"Female\".)\n",
      "* Wr.Hnd span (distance from tip of thumb to tip of little finger of spread hand) of writing hand, in\n",
      "centimetres.\n",
      "* NW.Hnd span of non-writing hand.\n",
      "* W.Hnd writing hand of student. (Factor, with levels \"Left\" and \"Right\".)\n",
      "* Fold \u201cFold your arms! Which is on top\u201d (Factor, with levels \"R on L\", \"L on R\", \"Neither\".)\n",
      "* Pulse pulse rate of student (beats per minute).\n",
      "* Clap \u2018Clap your hands! Which hand is on top?\u2019 (Factor, with levels \"Right\", \"Left\", \"Neither\".)\n",
      "* Exer how often the student exercises. (Factor, with levels \"Freq\" (frequently), \"Some\", \"None\".)\n",
      "* Smoke how much the student smokes. (Factor, levels \"Heavy\", \"Regul\" (regularly), \"Occas\" (occasionally),\n",
      "\"Never\".)\n",
      "* Height height of the student in centimetres.\n",
      "* M.I whether the student expressed height in imperial (feet/inches) or metric (centimetres/metres)\n",
      "units. (Factor, levels \"Metric\", \"Imperial\".)\n",
      "*Age age of the student in years"
     ]
    },
    {
     "cell_type": "code",
     "collapsed": false,
     "input": [
      "mass.data.head()"
     ],
     "language": "python",
     "metadata": {},
     "outputs": [
      {
       "html": [
        "<div style=\"max-height:1000px;max-width:1500px;overflow:auto;\">\n",
        "<table border=\"1\" class=\"dataframe\">\n",
        "  <thead>\n",
        "    <tr style=\"text-align: right;\">\n",
        "      <th></th>\n",
        "      <th>Sex</th>\n",
        "      <th>Wr.Hnd</th>\n",
        "      <th>NW.Hnd</th>\n",
        "      <th>W.Hnd</th>\n",
        "      <th>Fold</th>\n",
        "      <th>Pulse</th>\n",
        "      <th>Clap</th>\n",
        "      <th>Exer</th>\n",
        "      <th>Smoke</th>\n",
        "      <th>Height</th>\n",
        "      <th>M.I</th>\n",
        "      <th>Age</th>\n",
        "    </tr>\n",
        "  </thead>\n",
        "  <tbody>\n",
        "    <tr>\n",
        "      <th>0</th>\n",
        "      <td> Female</td>\n",
        "      <td> 18.5</td>\n",
        "      <td> 18.0</td>\n",
        "      <td> Right</td>\n",
        "      <td>  R on L</td>\n",
        "      <td>  92</td>\n",
        "      <td>    Left</td>\n",
        "      <td> Some</td>\n",
        "      <td> Never</td>\n",
        "      <td> 173.0</td>\n",
        "      <td>   Metric</td>\n",
        "      <td> 18.250</td>\n",
        "    </tr>\n",
        "    <tr>\n",
        "      <th>1</th>\n",
        "      <td>   Male</td>\n",
        "      <td> 19.5</td>\n",
        "      <td> 20.5</td>\n",
        "      <td>  Left</td>\n",
        "      <td>  R on L</td>\n",
        "      <td> 104</td>\n",
        "      <td>    Left</td>\n",
        "      <td> None</td>\n",
        "      <td> Regul</td>\n",
        "      <td> 177.8</td>\n",
        "      <td> Imperial</td>\n",
        "      <td> 17.583</td>\n",
        "    </tr>\n",
        "    <tr>\n",
        "      <th>2</th>\n",
        "      <td>   Male</td>\n",
        "      <td> 18.0</td>\n",
        "      <td> 13.3</td>\n",
        "      <td> Right</td>\n",
        "      <td>  L on R</td>\n",
        "      <td>  87</td>\n",
        "      <td> Neither</td>\n",
        "      <td> None</td>\n",
        "      <td> Occas</td>\n",
        "      <td>   NaN</td>\n",
        "      <td>      NaN</td>\n",
        "      <td> 16.917</td>\n",
        "    </tr>\n",
        "    <tr>\n",
        "      <th>3</th>\n",
        "      <td>   Male</td>\n",
        "      <td> 18.8</td>\n",
        "      <td> 18.9</td>\n",
        "      <td> Right</td>\n",
        "      <td>  R on L</td>\n",
        "      <td> NaN</td>\n",
        "      <td> Neither</td>\n",
        "      <td> None</td>\n",
        "      <td> Never</td>\n",
        "      <td> 160.0</td>\n",
        "      <td>   Metric</td>\n",
        "      <td> 20.333</td>\n",
        "    </tr>\n",
        "    <tr>\n",
        "      <th>4</th>\n",
        "      <td>   Male</td>\n",
        "      <td> 20.0</td>\n",
        "      <td> 20.0</td>\n",
        "      <td> Right</td>\n",
        "      <td> Neither</td>\n",
        "      <td>  35</td>\n",
        "      <td>   Right</td>\n",
        "      <td> Some</td>\n",
        "      <td> Never</td>\n",
        "      <td> 165.0</td>\n",
        "      <td>   Metric</td>\n",
        "      <td> 23.667</td>\n",
        "    </tr>\n",
        "  </tbody>\n",
        "</table>\n",
        "</div>"
       ],
       "metadata": {},
       "output_type": "pyout",
       "prompt_number": 5,
       "text": [
        "      Sex  Wr.Hnd  NW.Hnd  W.Hnd     Fold  Pulse     Clap  Exer  Smoke  \\\n",
        "0  Female    18.5    18.0  Right   R on L     92     Left  Some  Never   \n",
        "1    Male    19.5    20.5   Left   R on L    104     Left  None  Regul   \n",
        "2    Male    18.0    13.3  Right   L on R     87  Neither  None  Occas   \n",
        "3    Male    18.8    18.9  Right   R on L    NaN  Neither  None  Never   \n",
        "4    Male    20.0    20.0  Right  Neither     35    Right  Some  Never   \n",
        "\n",
        "   Height       M.I     Age  \n",
        "0   173.0    Metric  18.250  \n",
        "1   177.8  Imperial  17.583  \n",
        "2     NaN       NaN  16.917  \n",
        "3   160.0    Metric  20.333  \n",
        "4   165.0    Metric  23.667  "
       ]
      }
     ],
     "prompt_number": 5
    },
    {
     "cell_type": "code",
     "collapsed": false,
     "input": [
      "type(mass.data)"
     ],
     "language": "python",
     "metadata": {},
     "outputs": [
      {
       "metadata": {},
       "output_type": "pyout",
       "prompt_number": 8,
       "text": [
        "pandas.core.frame.DataFrame"
       ]
      }
     ],
     "prompt_number": 8
    },
    {
     "cell_type": "code",
     "collapsed": false,
     "input": [
      "mass.data.groupby('Sex').count()"
     ],
     "language": "python",
     "metadata": {},
     "outputs": [
      {
       "html": [
        "<div style=\"max-height:1000px;max-width:1500px;overflow:auto;\">\n",
        "<table border=\"1\" class=\"dataframe\">\n",
        "  <thead>\n",
        "    <tr style=\"text-align: right;\">\n",
        "      <th></th>\n",
        "      <th>Wr.Hnd</th>\n",
        "      <th>NW.Hnd</th>\n",
        "      <th>W.Hnd</th>\n",
        "      <th>Fold</th>\n",
        "      <th>Pulse</th>\n",
        "      <th>Clap</th>\n",
        "      <th>Exer</th>\n",
        "      <th>Smoke</th>\n",
        "      <th>Height</th>\n",
        "      <th>M.I</th>\n",
        "      <th>Age</th>\n",
        "    </tr>\n",
        "    <tr>\n",
        "      <th>Sex</th>\n",
        "      <th></th>\n",
        "      <th></th>\n",
        "      <th></th>\n",
        "      <th></th>\n",
        "      <th></th>\n",
        "      <th></th>\n",
        "      <th></th>\n",
        "      <th></th>\n",
        "      <th></th>\n",
        "      <th></th>\n",
        "      <th></th>\n",
        "    </tr>\n",
        "  </thead>\n",
        "  <tbody>\n",
        "    <tr>\n",
        "      <th>Female</th>\n",
        "      <td> 118</td>\n",
        "      <td> 118</td>\n",
        "      <td> 117</td>\n",
        "      <td> 118</td>\n",
        "      <td> 95</td>\n",
        "      <td> 118</td>\n",
        "      <td> 118</td>\n",
        "      <td> 118</td>\n",
        "      <td> 102</td>\n",
        "      <td> 102</td>\n",
        "      <td> 118</td>\n",
        "    </tr>\n",
        "    <tr>\n",
        "      <th>Male</th>\n",
        "      <td> 117</td>\n",
        "      <td> 117</td>\n",
        "      <td> 118</td>\n",
        "      <td> 118</td>\n",
        "      <td> 96</td>\n",
        "      <td> 117</td>\n",
        "      <td> 118</td>\n",
        "      <td> 117</td>\n",
        "      <td> 106</td>\n",
        "      <td> 106</td>\n",
        "      <td> 118</td>\n",
        "    </tr>\n",
        "  </tbody>\n",
        "</table>\n",
        "</div>"
       ],
       "metadata": {},
       "output_type": "pyout",
       "prompt_number": 9,
       "text": [
        "        Wr.Hnd  NW.Hnd  W.Hnd  Fold  Pulse  Clap  Exer  Smoke  Height  M.I  \\\n",
        "Sex                                                                          \n",
        "Female     118     118    117   118     95   118   118    118     102  102   \n",
        "Male       117     117    118   118     96   117   118    117     106  106   \n",
        "\n",
        "        Age  \n",
        "Sex          \n",
        "Female  118  \n",
        "Male    118  "
       ]
      }
     ],
     "prompt_number": 9
    },
    {
     "cell_type": "code",
     "collapsed": false,
     "input": [
      "mass.data.columns\n",
      "mass.data.columns=['sex','wr','nw','w','fold','pulse','clap','exer','smoke','height','mi','age']"
     ],
     "language": "python",
     "metadata": {},
     "outputs": [],
     "prompt_number": 16
    },
    {
     "cell_type": "code",
     "collapsed": false,
     "input": [
      "mass.data.columns"
     ],
     "language": "python",
     "metadata": {},
     "outputs": [
      {
       "metadata": {},
       "output_type": "pyout",
       "prompt_number": 18,
       "text": [
        "Index([u'sex', u'wr', u'nw', u'w', u'fold', u'pulse', u'clap', u'exer', u'smoke', u'height', u'mi', u'age'], dtype='object')"
       ]
      }
     ],
     "prompt_number": 18
    },
    {
     "cell_type": "code",
     "collapsed": false,
     "input": [
      "import seaborn as sns\n",
      "sns.corrplot(mass.data)"
     ],
     "language": "python",
     "metadata": {},
     "outputs": [
      {
       "ename": "ImportError",
       "evalue": "No module named seaborn",
       "output_type": "pyerr",
       "traceback": [
        "\u001b[1;31m---------------------------------------------------------------------------\u001b[0m\n\u001b[1;31mImportError\u001b[0m                               Traceback (most recent call last)",
        "\u001b[1;32m<ipython-input-23-ed9806ce3570>\u001b[0m in \u001b[0;36m<module>\u001b[1;34m()\u001b[0m\n\u001b[1;32m----> 1\u001b[1;33m \u001b[1;32mimport\u001b[0m \u001b[0mseaborn\u001b[0m \u001b[1;32mas\u001b[0m \u001b[0msns\u001b[0m\u001b[1;33m\u001b[0m\u001b[0m\n\u001b[0m",
        "\u001b[1;31mImportError\u001b[0m: No module named seaborn"
       ]
      }
     ],
     "prompt_number": 23
    },
    {
     "cell_type": "code",
     "collapsed": false,
     "input": [
      "formula='sex ~ wr+nw+w+pulse+height+age'\n",
      "import statsmodels.formula.api as smf\n",
      "model=smf.glm(formula,data=mass.data,family=sm.families.Binomial()).fit()\n",
      "print (model.summary())"
     ],
     "language": "python",
     "metadata": {},
     "outputs": [
      {
       "output_type": "stream",
       "stream": "stdout",
       "text": [
        "                      Generalized Linear Model Regression Results                       \n",
        "========================================================================================\n",
        "Dep. Variable:     ['sex[Female]', 'sex[Male]']   No. Observations:                  168\n",
        "Model:                                      GLM   Df Residuals:                      161\n",
        "Model Family:                          Binomial   Df Model:                            6\n",
        "Link Function:                            logit   Scale:                             1.0\n",
        "Method:                                    IRLS   Log-Likelihood:                -52.236\n",
        "Date:                          Wed, 17 Dec 2014   Deviance:                       104.47\n",
        "Time:                                  17:16:19   Pearson chi2:                     646.\n",
        "No. Iterations:                               7                                         \n",
        "==============================================================================\n",
        "                 coef    std err          t      P>|t|      [95.0% Conf. Int.]\n",
        "------------------------------------------------------------------------------\n",
        "Intercept     49.5650      8.052      6.156      0.000        33.783    65.347\n",
        "w[T.Right]     0.0766      1.112      0.069      0.945        -2.104     2.257\n",
        "wr             0.7649      0.591      1.295      0.195        -0.393     1.923\n",
        "nw            -1.5121      0.619     -2.442      0.015        -2.726    -0.298\n",
        "pulse          0.0100      0.022      0.461      0.645        -0.033     0.053\n",
        "height        -0.2123      0.045     -4.746      0.000        -0.300    -0.125\n",
        "age        -6.183e-05      0.044     -0.001      0.999        -0.087     0.087\n",
        "==============================================================================\n"
       ]
      }
     ],
     "prompt_number": 20
    },
    {
     "cell_type": "code",
     "collapsed": false,
     "input": [
      "formula='sex ~ nw+height'\n",
      "model=smf.glm(formula,data=mass.data,family=sm.families.Binomial()).fit()\n",
      "print (model.summary())"
     ],
     "language": "python",
     "metadata": {},
     "outputs": [
      {
       "output_type": "stream",
       "stream": "stdout",
       "text": [
        "                      Generalized Linear Model Regression Results                       \n",
        "========================================================================================\n",
        "Dep. Variable:     ['sex[Female]', 'sex[Male]']   No. Observations:                  207\n",
        "Model:                                      GLM   Df Residuals:                      204\n",
        "Model Family:                          Binomial   Df Model:                            2\n",
        "Link Function:                            logit   Scale:                             1.0\n",
        "Method:                                    IRLS   Log-Likelihood:                -67.329\n",
        "Date:                          Wed, 17 Dec 2014   Deviance:                       134.66\n",
        "Time:                                  17:17:25   Pearson chi2:                     468.\n",
        "No. Iterations:                               7                                         \n",
        "==============================================================================\n",
        "                 coef    std err          t      P>|t|      [95.0% Conf. Int.]\n",
        "------------------------------------------------------------------------------\n",
        "Intercept     49.1014      6.919      7.097      0.000        35.540    62.662\n",
        "nw            -0.8189      0.188     -4.358      0.000        -1.187    -0.451\n",
        "height        -0.1977      0.038     -5.241      0.000        -0.272    -0.124\n",
        "==============================================================================\n"
       ]
      }
     ],
     "prompt_number": 21
    },
    {
     "cell_type": "code",
     "collapsed": false,
     "input": [],
     "language": "python",
     "metadata": {},
     "outputs": []
    }
   ],
   "metadata": {}
  }
 ]
}