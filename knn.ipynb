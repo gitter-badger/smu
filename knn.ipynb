{
 "cells": [
  {
   "cell_type": "code",
   "execution_count": 1,
   "metadata": {
    "collapsed": false
   },
   "outputs": [
    {
     "name": "stdout",
     "output_type": "stream",
     "text": [
      "0_114.txt\n"
     ]
    }
   ],
   "source": [
    "def img2vector(filename):\n",
    "    mylist = []\n",
    "    fr = open(filename)\n",
    "    height=32;\n",
    "    width=32;\n",
    "    for i in range(height):\n",
    "        lineStr=fr.readline()\n",
    "        #print len(mylist)\n",
    "        for j in range(width):\n",
    "            mylist.append(int(lineStr[j]))\n",
    "    #mat = numpy.array(mylist)\n",
    "    return mylist\n",
    "import os\n",
    "import numpy as np\n",
    "os.chdir('/home/jsl/Code/git/else/machinelearninginaction/Ch02/trainingDigits')\n",
    "dir=os.getcwd()\n",
    "trainingFileList=os.listdir(dir)\n",
    "filename=trainingFileList[0]\n",
    "print filename"
   ]
  },
  {
   "cell_type": "markdown",
   "metadata": {},
   "source": [
    "#벡터를 합하는 문제"
   ]
  },
  {
   "cell_type": "code",
   "execution_count": 17,
   "metadata": {
    "collapsed": false
   },
   "outputs": [
    {
     "name": "stdout",
     "output_type": "stream",
     "text": [
      "1024\n",
      "(2, 10)\n",
      "[[ 0  1  2  3  4  5  6  7  8  9]\n",
      " [10 11 12 13 14 15 16 17 18 19]\n",
      " [30 31 32 33 34 35 36 37 38 39]]\n"
     ]
    }
   ],
   "source": [
    "data=img2vector(filename)\n",
    "print len(data)\n",
    "a=np.array(range(0,10))\n",
    "b=np.array(range(10,20))\n",
    "ab=np.vstack([a,b])\n",
    "print ab.shape\n",
    "c=np.array(range(30,40))\n",
    "abc=np.vstack([ab,c])\n",
    "print abc"
   ]
  },
  {
   "cell_type": "code",
   "execution_count": 3,
   "metadata": {
    "collapsed": false
   },
   "outputs": [
    {
     "name": "stdout",
     "output_type": "stream",
     "text": [
      "1934\n",
      "(1934, 1024)\n"
     ]
    }
   ],
   "source": [
    "m=len(trainingFileList)\n",
    "print m\n",
    "trainingMat=np.zeros((m,1024))\n",
    "for i in range(m):\n",
    "    filename=trainingFileList[i]\n",
    "    trainingMat[i,:]=img2vector(filename)\n",
    "print trainingMat.shape"
   ]
  },
  {
   "cell_type": "code",
   "execution_count": 14,
   "metadata": {
    "collapsed": false
   },
   "outputs": [
    {
     "name": "stdout",
     "output_type": "stream",
     "text": [
      "[[ 0.  0.  0.  0.  0.  0.  0.  0.  0.  0.  0.  0.  0.  1.  1.]\n",
      " [ 0.  0.  0.  0.  0.  0.  0.  0.  0.  0.  0.  0.  0.  0.  0.]\n",
      " [ 0.  0.  0.  0.  0.  0.  0.  0.  0.  0.  1.  1.  1.  1.  1.]\n",
      " [ 0.  0.  0.  0.  0.  0.  0.  0.  0.  0.  0.  1.  1.  1.  1.]\n",
      " [ 0.  0.  0.  0.  0.  0.  0.  0.  0.  0.  0.  0.  1.  0.  0.]]\n"
     ]
    }
   ],
   "source": [
    "print trainingMat[:5,:15]"
   ]
  },
  {
   "cell_type": "code",
   "execution_count": 15,
   "metadata": {
    "collapsed": false
   },
   "outputs": [
    {
     "name": "stdout",
     "output_type": "stream",
     "text": [
      "00000000000001111000000000000000\r",
      "\r\n",
      "00000000000111111001100000000000\r",
      "\r\n",
      "00000000001111111111111100000000\r",
      "\r\n",
      "00000000001111111111111110000000\r",
      "\r\n",
      "00000000001111111111111110000000\r",
      "\r\n",
      "00000000001111111111111111000000\r",
      "\r\n",
      "00000000011111111110011111000000\r",
      "\r\n",
      "00000000011111111000011111000000\r",
      "\r\n",
      "00000000011110000000011111000000\r",
      "\r\n",
      "00000000111110000000011111000000\r",
      "\r\n",
      "00000000111100000000001111000000\r",
      "\r\n",
      "00000000111100000000001111000000\r",
      "\r\n",
      "00000000111000000000001111000000\r",
      "\r\n",
      "00000000111000000000011111000000\r",
      "\r\n",
      "00000001111000000000011111000000\r",
      "\r\n",
      "00000001111000000000011111000000\r",
      "\r\n",
      "00000001111000000000010111000000\r",
      "\r\n",
      "00000001111000000000011110000000\r",
      "\r\n",
      "00000001110000000000011110000000\r",
      "\r\n",
      "00000001110000000000111110000000\r",
      "\r\n",
      "00000011110000000000111110000000\r",
      "\r\n",
      "00000011110000000000111100000000\r",
      "\r\n",
      "00000011111000000001111100000000\r",
      "\r\n",
      "00000011111000000011111000000000\r",
      "\r\n",
      "00000001111100000011111000000000\r",
      "\r\n",
      "00000001111111111111111000000000\r",
      "\r\n",
      "00000000111111111111110000000000\r",
      "\r\n",
      "00000000011111111111100000000000\r",
      "\r\n",
      "00000000011111111111100000000000\r",
      "\r\n",
      "00000000001101111110000000000000\r",
      "\r\n",
      "00000000000111111100000000000000\r",
      "\r\n",
      "00000000000001110000000000000000\r",
      "\r\n"
     ]
    }
   ],
   "source": [
    "!cat 0_114.txt"
   ]
  },
  {
   "cell_type": "code",
   "execution_count": null,
   "metadata": {
    "collapsed": true
   },
   "outputs": [],
   "source": []
  }
 ],
 "metadata": {
  "kernelspec": {
   "display_name": "Python 2",
   "language": "python",
   "name": "python2"
  },
  "language_info": {
   "codemirror_mode": {
    "name": "ipython",
    "version": 2
   },
   "file_extension": ".py",
   "mimetype": "text/x-python",
   "name": "python",
   "nbconvert_exporter": "python",
   "pygments_lexer": "ipython2",
   "version": "2.7.6"
  }
 },
 "nbformat": 4,
 "nbformat_minor": 0
}
