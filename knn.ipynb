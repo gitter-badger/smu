{
 "cells": [
  {
   "cell_type": "markdown",
   "metadata": {},
   "source": [
    "#knn\n",
    "\n",
    "* knn은 lazy learning이라고 한다. eager learning의 반대되는 개념. 즉, 학습이 늦추어져 있다가 질의가 일어나는 시점에 일어남.\n",
    "* knn은 매우 단순하지만 정확성이 비교적 높음.\n",
    "* 입력데이터가 과다할 경우, 테스트데이터의 비교가 비효율화\n",
    "\n",
    "* 예를 들어, 사람마다 좋아하는 과일이 다른 경우, \n",
    "\n",
    "■ Number of frequent flyer miles earned per year\n",
    "■ Percentage of time spent playing video games\n",
    "■ Liters of ice cream consumed per week\n",
    "\n",
    "| 비행기 마일리지 | 비디오게임하는 시간 | 아이스크림 소비량 | 이상형정도 |\n",
    "|-------------|----------------|---------------|------|\n",
    "|2.0|3.0|2.0| 1|\n",
    "|5.0|3.0|2.0| 2|\n",
    "\n",
    "\n",
    "\n",
    "\n",
    "\n",
    "* 단위가 다른 변수는 정규화 (최소, 최대가 0~1이 되도록 변환하거나 z값을 계산하여 사용함)\n",
    "* 명목변수는 0,1로 변환"
   ]
  },
  {
   "cell_type": "markdown",
   "metadata": {},
   "source": [
    "## algorithm knn\n",
    "* 학습단계에서는 학습데이터 (자질(features), 클래스(class label)로 이루어진 벡터)를 준비해 놓음. 준비만 하고 모델링, 연산 등은 하지 않음.\n",
    "* 분류단계에서는 테스트데이터를 학습데이터 가운데 가장 가까운 k개를 골라서, 가장 많은 클래스로 투표하듯이 분류함 (majority voting)\n",
    "\n",
    "knn알고리듬의 입력데이터는 학습데이터(S), 테스트데이터(x), 투표갯수(k). 결과는 결정된 클래스.\n",
    "* input: S,x,k\n",
    "    * S: training dataset m(n_features) x n(n_samples)\n",
    "    * x: test instance\n",
    "    * c: class label\n",
    "    * k: the number of most similar examples in S \n",
    "* output: class of x majority class\n",
    "\n",
    "절차\n",
    "* for (feature,class) $\\in$ S do \n",
    "    * compute the distance d(feature,x)\n",
    "* end for\n",
    "* sort d by increasing order\n",
    "* count the number of occurences of each class among the k nearest neighbors\n",
    "* Assign d the class that is the most frequent class (or the majority class).\n"
   ]
  },
  {
   "cell_type": "markdown",
   "metadata": {},
   "source": [
    "알고리듬에 따른 개발\n",
    "1. data read - 데이터 준비\n",
    "2. distance - 학습데이터와 테스트데이터 거리(유사도) 계산\n",
    "3. select k neighbors - 가장 가까운 k개 선정\n",
    "4. decision - k개에서 voting하여 결정\n",
    "5. accuracy - 정확성"
   ]
  },
  {
   "cell_type": "markdown",
   "metadata": {},
   "source": [
    "## 1. data read"
   ]
  },
  {
   "cell_type": "code",
   "execution_count": 90,
   "metadata": {
    "collapsed": false
   },
   "outputs": [
    {
     "name": "stdout",
     "output_type": "stream",
     "text": [
      "file name = 0_1.txt\n",
      "class is  0\n"
     ]
    }
   ],
   "source": [
    "#디렉토리 여러 파일을 읽는 실습.\n",
    "import os\n",
    "import numpy as np\n",
    "# git clone https://github.com/pbharrin/machinelearninginaction.git\n",
    "# cd Ch02/trainingDigits; unzip digits.zip\n",
    "dir=os.getenv('HOME')+'/Code/git/else/machinelearninginaction/Ch02/trainingDigits'\n",
    "#print dir\n",
    "os.chdir(dir)\n",
    "trainingFileList=os.listdir(dir)\n",
    "filename=trainingFileList[1]\n",
    "print \"file name =\",filename\n",
    "#파일명 첫 글자 (underscore '_'로 분리해서)가 클래스명\n",
    "print \"class is \",filename.split('_')[0]"
   ]
  },
  {
   "cell_type": "code",
   "execution_count": 91,
   "metadata": {
    "collapsed": true
   },
   "outputs": [],
   "source": [
    "#파일 너비32, 높이32를 읽어 리스트를 만듦.\n",
    "#입력: 파일명, 출력: 리스트\n",
    "def img2vector(filename):\n",
    "    height=32;\n",
    "    width=32;\n",
    "    mylist = []\n",
    "    fr = open(filename)\n",
    "    for i in range(height):\n",
    "        lineStr=fr.readline()\n",
    "        #print len(mylist)\n",
    "        for j in range(width):\n",
    "            mylist.append(int(lineStr[j]))\n",
    "    #mat = numpy.array(mylist)\n",
    "    return mylist"
   ]
  },
  {
   "cell_type": "markdown",
   "metadata": {},
   "source": [
    "### 벡터를 합하는 문제\n",
    "* img2vector는 한 파일에서 읽음.\n",
    "* 아래 32x32 (=1024)형식, 1934개 파일의 데이터를 읽어 하나의 벡터로 합침.\n",
    "* 아래를 보면 0이 보임. 즉, 파일명의 맨 앞 글자 ('_'로 분리한 결과)"
   ]
  },
  {
   "cell_type": "code",
   "execution_count": 92,
   "metadata": {
    "collapsed": false
   },
   "outputs": [
    {
     "name": "stdout",
     "output_type": "stream",
     "text": [
      "00000000000001111000000000000000\r",
      "\r\n",
      "00000000000111111001100000000000\r",
      "\r\n",
      "00000000001111111111111100000000\r",
      "\r\n",
      "00000000001111111111111110000000\r",
      "\r\n",
      "00000000001111111111111110000000\r",
      "\r\n",
      "00000000001111111111111111000000\r",
      "\r\n",
      "00000000011111111110011111000000\r",
      "\r\n",
      "00000000011111111000011111000000\r",
      "\r\n",
      "00000000011110000000011111000000\r",
      "\r\n",
      "00000000111110000000011111000000\r",
      "\r\n",
      "00000000111100000000001111000000\r",
      "\r\n",
      "00000000111100000000001111000000\r",
      "\r\n",
      "00000000111000000000001111000000\r",
      "\r\n",
      "00000000111000000000011111000000\r",
      "\r\n",
      "00000001111000000000011111000000\r",
      "\r\n",
      "00000001111000000000011111000000\r",
      "\r\n",
      "00000001111000000000010111000000\r",
      "\r\n",
      "00000001111000000000011110000000\r",
      "\r\n",
      "00000001110000000000011110000000\r",
      "\r\n",
      "00000001110000000000111110000000\r",
      "\r\n",
      "00000011110000000000111110000000\r",
      "\r\n",
      "00000011110000000000111100000000\r",
      "\r\n",
      "00000011111000000001111100000000\r",
      "\r\n",
      "00000011111000000011111000000000\r",
      "\r\n",
      "00000001111100000011111000000000\r",
      "\r\n",
      "00000001111111111111111000000000\r",
      "\r\n",
      "00000000111111111111110000000000\r",
      "\r\n",
      "00000000011111111111100000000000\r",
      "\r\n",
      "00000000011111111111100000000000\r",
      "\r\n",
      "00000000001101111110000000000000\r",
      "\r\n",
      "00000000000111111100000000000000\r",
      "\r\n",
      "00000000000001110000000000000000\r",
      "\r\n"
     ]
    }
   ],
   "source": [
    "!cat 0_114.txt"
   ]
  },
  {
   "cell_type": "code",
   "execution_count": 93,
   "metadata": {
    "collapsed": false
   },
   "outputs": [
    {
     "name": "stdout",
     "output_type": "stream",
     "text": [
      "saved 32 x 32 =  1024\n",
      "a+b= (2, 10)\n",
      "3x10테이블모양의 a+b+c= [[ 0  1  2  3  4  5  6  7  8  9]\n",
      " [10 11 12 13 14 15 16 17 18 19]\n",
      " [30 31 32 33 34 35 36 37 38 39]]\n"
     ]
    }
   ],
   "source": [
    "data=img2vector(filename)\n",
    "print \"saved 32 x 32 = \",len(data)\n",
    "\n",
    "#여러 파일을 읽을 경우, 벡터를 만드는 연습.\n",
    "a=np.array(range(0,10))\n",
    "b=np.array(range(10,20))\n",
    "ab=np.vstack([a,b])\n",
    "print \"a+b=\",ab.shape\n",
    "c=np.array(range(30,40))\n",
    "abc=np.vstack([ab,c])\n",
    "print \"3x10테이블모양의 a+b+c=\",abc"
   ]
  },
  {
   "cell_type": "code",
   "execution_count": 94,
   "metadata": {
    "collapsed": false
   },
   "outputs": [
    {
     "name": "stdout",
     "output_type": "stream",
     "text": [
      "1934\n",
      "trainingMat(1934, 1024)\n",
      "[[ 0.  0.  0.  0.  0.  0.  0.  0.  0.  0.  0.  0.  0.  1.  1.]\n",
      " [ 0.  0.  0.  0.  0.  0.  0.  0.  0.  0.  0.  1.  1.  1.  1.]\n",
      " [ 0.  0.  0.  0.  0.  0.  0.  0.  0.  0.  0.  0.  0.  0.  1.]\n",
      " [ 0.  0.  0.  0.  0.  0.  0.  0.  0.  0.  0.  0.  1.  1.  1.]\n",
      " [ 0.  0.  0.  0.  0.  0.  0.  0.  0.  0.  0.  0.  0.  0.  1.]]\n",
      "hwlabels 1934\n",
      "hwlabels 한 줄에 1934개이지만 5개만 출력하면 [0, 0, 0, 0, 0]\n"
     ]
    }
   ],
   "source": [
    "# 디렉토리에 있는 파일을 읽어서 벡터로 만듦.\n",
    "m=len(trainingFileList)\n",
    "print m\n",
    "trainingMat=np.zeros((m,1024))\n",
    "hwlabels=[]\n",
    "filenames=[]\n",
    "for i in range(m):\n",
    "    filename=trainingFileList[i]\n",
    "    trainingMat[i,:]=img2vector(filename)\n",
    "    classNumStr=int(filename.split('_')[0])\n",
    "    hwlabels.append(classNumStr)\n",
    "    filenames.append(filename)\n",
    "#출력형식(formatted print)을 보기좋게\n",
    "print \"trainingMat{0}\".format( trainingMat.shape)\n",
    "print trainingMat[:5,:15]\n",
    "print \"hwlabels %d\" % len(hwlabels)\n",
    "print \"hwlabels 한 줄에 1934개이지만 5개만 출력하면 {0}\".format(hwlabels[:5])"
   ]
  },
  {
   "cell_type": "markdown",
   "metadata": {
    "collapsed": true
   },
   "source": [
    "## 2. distance\n",
    "### Euclidean distance\n",
    "\n",
    "$$\\|x\\| := \\sqrt{x_1^2 + \\cdots + x_n^2}$$\n"
   ]
  },
  {
   "cell_type": "code",
   "execution_count": 95,
   "metadata": {
    "collapsed": false
   },
   "outputs": [
    {
     "name": "stdout",
     "output_type": "stream",
     "text": [
      "4.79583152331\n",
      "4.79583152331\n",
      "The slowest run took 6.17 times longer than the fastest. This could mean that an intermediate result is being cached \n",
      "100000 loops, best of 3: 14.9 µs per loop\n",
      "100000 loops, best of 3: 12.9 µs per loop\n"
     ]
    }
   ],
   "source": [
    "import numpy as np\n",
    "a=np.array([5,2,3,1,4])\n",
    "b=np.array([2,4,3,4,5])\n",
    "print np.linalg.norm(a-b)\n",
    "\n",
    "#벡터연산을 하지 않는 경우\n",
    "print np.sqrt((a[0]-b[0])**2 + (a[1]-b[1])**2 + (a[2]-b[2])**2 +(a[3]-b[3])**2 +(a[4]-b[4])**2)\n",
    "#어느 연산이 시간이 적게 걸리는지\n",
    "import timeit\n",
    "%timeit np.linalg.norm(a-b)\n",
    "%timeit np.sqrt((a[0]-b[0])**2 + (a[1]-b[1])**2 + (a[2]-b[2])**2 +(a[3]-b[3])**2 +(a[4]-b[4])**2)"
   ]
  },
  {
   "cell_type": "code",
   "execution_count": 96,
   "metadata": {
    "collapsed": false
   },
   "outputs": [
    {
     "name": "stdout",
     "output_type": "stream",
     "text": [
      "[2.2360679774997898, 3.6055512754639891, 0.0, 6.4031242374328485]\n",
      "[  5.  13.   0.  41.]\n",
      "[ 2.23606798  3.60555128  0.          6.40312424]\n"
     ]
    }
   ],
   "source": [
    "import numpy as np\n",
    "#group = np.array([[1.0,1.1],[1.0,1.0],[0,0],[0,0.1]])\n",
    "g=np.array([[1.0,2.0],[2.0,3.0],[0,0],[4.0,5.0]])\n",
    "#클래스c를 저장하는 associative array\n",
    "c=np.array(['C','B','A','B'])\n",
    "x=np.array([0,0])\n",
    "print [np.linalg.norm(i-x) for i in g]\n",
    "print ((g-x)**2).sum(axis=1)\n",
    "print np.sqrt(((g-x)**2).sum(axis=1))\n",
    "distances=[np.linalg.norm(i-x) for i in g]"
   ]
  },
  {
   "cell_type": "markdown",
   "metadata": {},
   "source": [
    "## 3. select k neighbors"
   ]
  },
  {
   "cell_type": "code",
   "execution_count": 97,
   "metadata": {
    "collapsed": false
   },
   "outputs": [
    {
     "name": "stdout",
     "output_type": "stream",
     "text": [
      "[2 0 1 3]\n",
      "[array([ 0.,  0.]), array([ 1.,  2.]), array([ 2.,  3.]), array([ 4.,  5.])]\n",
      "['A', 'C', 'B', 'B']\n",
      "[3 2 0 1]\n",
      "[3 2 0]\n"
     ]
    }
   ],
   "source": [
    "sortedDistIndices=np.array(distances).argsort()\n",
    "#2번째 0, 0번째 2.23, 1번째 3.60, 3번째 6.40\n",
    "print sortedDistIndices\n",
    "#g를 x와 가장 가까운 것부터 출력하면\n",
    "print [g[i] for i in sortedDistIndices]\n",
    "print [c[i] for i in sortedDistIndices]\n",
    "#argsort의 실습.\n",
    "#3은 3번째인 '2', 2는 2번째인 '3', 0은 0번째인 '5', 1은 1번째 '7'\n",
    "x = np.array([5, 7, 3, 2])\n",
    "print np.argsort(x)\n",
    "\n",
    "#앞의 k개를 sorting하여 가장 많은 빈도수 있는 것을 고름\n",
    "k=3\n",
    "print np.argsort(x)[:k]"
   ]
  },
  {
   "cell_type": "markdown",
   "metadata": {},
   "source": [
    "## 4. decision\n",
    "\n",
    "* Python에서 제공하는 Set기능을 사용하여 빈도가 가장 높은 요소를 선정.\n",
    "* most_common함수는 빈도가 가장 높은 요소와 빈도수를 내림차순으로 출력"
   ]
  },
  {
   "cell_type": "code",
   "execution_count": 98,
   "metadata": {
    "collapsed": false
   },
   "outputs": [
    {
     "name": "stdout",
     "output_type": "stream",
     "text": [
      "[('a', 2), ('c', 1), ('b', 1)]\n",
      "labelcount= {'a': 2, 'c': 1, 'b': 1}\n",
      "most frequent item = [('a', 2)]\n"
     ]
    }
   ],
   "source": [
    "#혹은 collections를 사용\n",
    "import collections\n",
    "a1=['a','b','a','c']\n",
    "a2=[1,2,3,4,4,4,4,2,42,5]\n",
    "print collections.Counter(a1).most_common()\n",
    "\n",
    "#이렇게 해도 됨.\n",
    "labelcount={}\n",
    "for i in range(len(a1)):\n",
    "    l=a1[i]\n",
    "    if l not in labelcount:\n",
    "        labelcount[l]=1\n",
    "    else:\n",
    "        labelcount[l]+=1\n",
    "import collections\n",
    "print \"labelcount=\",labelcount\n",
    "#labelcount에서 가장빈도가 가장 높은 요소 돌려줌. 즉 a는 2회.\n",
    "print \"most frequent item =\",collections.Counter(labelcount).most_common(1)\n",
    "\n",
    "#g=group\n",
    "#np.sqrt((g[0]-x[0])**2 + (g[1]-b[1])**2 + (a[2]-b[2])**2 +(a[3]-b[3])**2 +(a[4]-b[4])**2)\n",
    "#def classify(x,S,k):\n",
    "    "
   ]
  },
  {
   "cell_type": "markdown",
   "metadata": {},
   "source": [
    "## 알고리듬 (위 2,3,4) 묶어서 하나의 함수로"
   ]
  },
  {
   "cell_type": "code",
   "execution_count": 106,
   "metadata": {
    "collapsed": false
   },
   "outputs": [
    {
     "name": "stdout",
     "output_type": "stream",
     "text": [
      "g= [[ 1.  2.]\n",
      " [ 2.  3.]\n",
      " [ 0.  0.]\n",
      " [ 4.  5.]]\n",
      "c= ['C' 'B' 'A' 'B']\n",
      "now classifying...\n",
      "\n",
      "입력데이터[[ 1.  2.]\n",
      " [ 2.  3.]\n",
      " [ 0.  0.]\n",
      " [ 4.  5.]]가운데 [0, 0]과 가장 가까운 데이터와 클래스를 순서대로 나열하면\n",
      "\tindex 2 traindata [ 0.  0.] class A\n",
      "\tindex 0 traindata [ 1.  2.] class C\n",
      "\tindex 1 traindata [ 2.  3.] class B\n",
      "\tmajor class는 [('A', 1)]\n"
     ]
    }
   ],
   "source": [
    "#x:테스트하려는 데이터 (features)\n",
    "#S: DataSet (feature의 집합)\n",
    "#c: class\n",
    "#k: 몇 개 가까운 이웃??\n",
    "def classify0(x, S, c, k):\n",
    "  import collections\n",
    "  distances=[np.linalg.norm(i-x) for i in S]\n",
    "  sortedDistIndices=np.array(distances).argsort()\n",
    "  #print [S[i] for i in sortedDistIndices]\n",
    "  #print [c[i] for i in sortedDistIndices]\n",
    "  knn=[]\n",
    "  for i in range(k):\n",
    "        j=sortedDistIndices[i]\n",
    "        knn.append(c[j])\n",
    "        print \"\\tindex {0} traindata {1} class {2}\".format(j,S[j][:5],c[j])\n",
    "  majority=collections.Counter(knn).most_common(1)\n",
    "  print \"\\tmajor class는 {0}\".format(majority)\n",
    "\n",
    "#x, g, c, k=1\n",
    "print \"g=\",g\n",
    "print \"c=\",c\n",
    "x=[0,0]\n",
    "print \"now classifying...\"\n",
    "print \"\\n입력데이터{0}가운데 {1}과 가장 가까운 데이터와 클래스를 순서대로 나열하면\".format(g, x)\n",
    "classify0([0,0],g,c,3)\n",
    "#[(0,1)]의 의미는 가장 가까운(most_common)은 0번째 즉 (0,0)이 1회 발생"
   ]
  },
  {
   "cell_type": "code",
   "execution_count": 107,
   "metadata": {
    "collapsed": false,
    "scrolled": true
   },
   "outputs": [
    {
     "name": "stdout",
     "output_type": "stream",
     "text": [
      "\tindex 500 traindata [ 0.  0.  0.  0.  0.] class 2\n",
      "\tindex 568 traindata [ 0.  0.  0.  0.  0.] class 2\n",
      "\tindex 414 traindata [ 0.  0.  0.  0.  0.] class 2\n",
      "\tindex 569 traindata [ 0.  0.  0.  0.  0.] class 2\n",
      "\tindex 519 traindata [ 0.  0.  0.  0.  0.] class 2\n",
      "\tmajor class는 [(2, 5)]\n",
      "2_25.txt 2_42.txt\n"
     ]
    }
   ],
   "source": [
    "#데이터 10개 정도만 가지고 실습.\n",
    "#numpy.version.version 1.9\n",
    "classify0(trainingMat[500],trainingMat,hwlabels,5)\n",
    "print \"{0} {1}\".format(filenames[500],filenames[519])"
   ]
  }
 ],
 "metadata": {
  "kernelspec": {
   "display_name": "Python 2",
   "language": "python",
   "name": "python2"
  },
  "language_info": {
   "codemirror_mode": {
    "name": "ipython",
    "version": 2
   },
   "file_extension": ".py",
   "mimetype": "text/x-python",
   "name": "python",
   "nbconvert_exporter": "python",
   "pygments_lexer": "ipython2",
   "version": "2.7.6"
  }
 },
 "nbformat": 4,
 "nbformat_minor": 0
}
